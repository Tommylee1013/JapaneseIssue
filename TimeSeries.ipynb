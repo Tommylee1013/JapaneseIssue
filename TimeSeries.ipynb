{
 "cells": [
  {
   "cell_type": "code",
   "execution_count": 2,
   "metadata": {
    "collapsed": true,
    "ExecuteTime": {
     "start_time": "2023-05-17T00:14:37.183572Z",
     "end_time": "2023-05-17T00:14:51.115186Z"
    }
   },
   "outputs": [],
   "source": [
    "import numpy as np, pandas as pd, matplotlib.pyplot as plt, seaborn as sns\n",
    "import statsmodels.api as sm\n",
    "import arch\n",
    "import yfinance as yf"
   ]
  },
  {
   "cell_type": "code",
   "execution_count": 10,
   "outputs": [
    {
     "name": "stdout",
     "output_type": "stream",
     "text": [
      "[*********************100%***********************]  1 of 1 completed\n"
     ]
    },
    {
     "data": {
      "text/plain": "                    Open          High           Low         Close  \\\nDate                                                                 \n1965-01-05   1257.719971   1257.719971   1257.719971   1257.719971   \n1965-01-06   1263.989990   1263.989990   1263.989990   1263.989990   \n1965-01-07   1274.270020   1274.270020   1274.270020   1274.270020   \n1965-01-08   1286.430054   1286.430054   1286.430054   1286.430054   \n1965-01-12   1288.540039   1288.540039   1288.540039   1288.540039   \n...                  ...           ...           ...           ...   \n2023-05-10  29189.410156  29195.160156  29070.109375  29122.179688   \n2023-05-11  29110.789062  29165.589844  29028.710938  29126.720703   \n2023-05-12  29199.300781  29426.060547  29141.519531  29388.300781   \n2023-05-15  29547.039062  29629.470703  29475.970703  29626.339844   \n2023-05-16  29838.009766  29916.560547  29779.070312  29842.990234   \n\n               Adj Close     Volume  \nDate                                 \n1965-01-05   1257.719971          0  \n1965-01-06   1263.989990          0  \n1965-01-07   1274.270020          0  \n1965-01-08   1286.430054          0  \n1965-01-12   1288.540039          0  \n...                  ...        ...  \n2023-05-10  29122.179688   87300000  \n2023-05-11  29126.720703   82200000  \n2023-05-12  29388.300781  106100000  \n2023-05-15  29626.339844   88600000  \n2023-05-16  29842.990234          0  \n\n[14351 rows x 6 columns]",
      "text/html": "<div>\n<style scoped>\n    .dataframe tbody tr th:only-of-type {\n        vertical-align: middle;\n    }\n\n    .dataframe tbody tr th {\n        vertical-align: top;\n    }\n\n    .dataframe thead th {\n        text-align: right;\n    }\n</style>\n<table border=\"1\" class=\"dataframe\">\n  <thead>\n    <tr style=\"text-align: right;\">\n      <th></th>\n      <th>Open</th>\n      <th>High</th>\n      <th>Low</th>\n      <th>Close</th>\n      <th>Adj Close</th>\n      <th>Volume</th>\n    </tr>\n    <tr>\n      <th>Date</th>\n      <th></th>\n      <th></th>\n      <th></th>\n      <th></th>\n      <th></th>\n      <th></th>\n    </tr>\n  </thead>\n  <tbody>\n    <tr>\n      <th>1965-01-05</th>\n      <td>1257.719971</td>\n      <td>1257.719971</td>\n      <td>1257.719971</td>\n      <td>1257.719971</td>\n      <td>1257.719971</td>\n      <td>0</td>\n    </tr>\n    <tr>\n      <th>1965-01-06</th>\n      <td>1263.989990</td>\n      <td>1263.989990</td>\n      <td>1263.989990</td>\n      <td>1263.989990</td>\n      <td>1263.989990</td>\n      <td>0</td>\n    </tr>\n    <tr>\n      <th>1965-01-07</th>\n      <td>1274.270020</td>\n      <td>1274.270020</td>\n      <td>1274.270020</td>\n      <td>1274.270020</td>\n      <td>1274.270020</td>\n      <td>0</td>\n    </tr>\n    <tr>\n      <th>1965-01-08</th>\n      <td>1286.430054</td>\n      <td>1286.430054</td>\n      <td>1286.430054</td>\n      <td>1286.430054</td>\n      <td>1286.430054</td>\n      <td>0</td>\n    </tr>\n    <tr>\n      <th>1965-01-12</th>\n      <td>1288.540039</td>\n      <td>1288.540039</td>\n      <td>1288.540039</td>\n      <td>1288.540039</td>\n      <td>1288.540039</td>\n      <td>0</td>\n    </tr>\n    <tr>\n      <th>...</th>\n      <td>...</td>\n      <td>...</td>\n      <td>...</td>\n      <td>...</td>\n      <td>...</td>\n      <td>...</td>\n    </tr>\n    <tr>\n      <th>2023-05-10</th>\n      <td>29189.410156</td>\n      <td>29195.160156</td>\n      <td>29070.109375</td>\n      <td>29122.179688</td>\n      <td>29122.179688</td>\n      <td>87300000</td>\n    </tr>\n    <tr>\n      <th>2023-05-11</th>\n      <td>29110.789062</td>\n      <td>29165.589844</td>\n      <td>29028.710938</td>\n      <td>29126.720703</td>\n      <td>29126.720703</td>\n      <td>82200000</td>\n    </tr>\n    <tr>\n      <th>2023-05-12</th>\n      <td>29199.300781</td>\n      <td>29426.060547</td>\n      <td>29141.519531</td>\n      <td>29388.300781</td>\n      <td>29388.300781</td>\n      <td>106100000</td>\n    </tr>\n    <tr>\n      <th>2023-05-15</th>\n      <td>29547.039062</td>\n      <td>29629.470703</td>\n      <td>29475.970703</td>\n      <td>29626.339844</td>\n      <td>29626.339844</td>\n      <td>88600000</td>\n    </tr>\n    <tr>\n      <th>2023-05-16</th>\n      <td>29838.009766</td>\n      <td>29916.560547</td>\n      <td>29779.070312</td>\n      <td>29842.990234</td>\n      <td>29842.990234</td>\n      <td>0</td>\n    </tr>\n  </tbody>\n</table>\n<p>14351 rows × 6 columns</p>\n</div>"
     },
     "execution_count": 10,
     "metadata": {},
     "output_type": "execute_result"
    }
   ],
   "source": [
    "stock_code = \"^N225\"\n",
    "nikkei = yf.download(stock_code, start=\"1960-01-01\", end=\"2023-05-31\")\n",
    "nikkei"
   ],
   "metadata": {
    "collapsed": false,
    "ExecuteTime": {
     "start_time": "2023-05-17T00:17:29.549990Z",
     "end_time": "2023-05-17T00:17:30.369453Z"
    }
   }
  },
  {
   "cell_type": "code",
   "execution_count": 11,
   "outputs": [
    {
     "data": {
      "text/plain": "Date\n1965-01-05     1257.719971\n1965-01-06     1263.989990\n1965-01-07     1274.270020\n1965-01-08     1286.430054\n1965-01-12     1288.540039\n                  ...     \n2023-05-10    29122.179688\n2023-05-11    29126.720703\n2023-05-12    29388.300781\n2023-05-15    29626.339844\n2023-05-16    29842.990234\nName: Adj Close, Length: 14351, dtype: float64"
     },
     "execution_count": 11,
     "metadata": {},
     "output_type": "execute_result"
    }
   ],
   "source": [
    "nikkei['Adj Close']"
   ],
   "metadata": {
    "collapsed": false,
    "ExecuteTime": {
     "start_time": "2023-05-17T00:17:31.103555Z",
     "end_time": "2023-05-17T00:17:31.108095Z"
    }
   }
  },
  {
   "cell_type": "code",
   "execution_count": null,
   "outputs": [],
   "source": [],
   "metadata": {
    "collapsed": false
   }
  }
 ],
 "metadata": {
  "kernelspec": {
   "display_name": "Python 3",
   "language": "python",
   "name": "python3"
  },
  "language_info": {
   "codemirror_mode": {
    "name": "ipython",
    "version": 2
   },
   "file_extension": ".py",
   "mimetype": "text/x-python",
   "name": "python",
   "nbconvert_exporter": "python",
   "pygments_lexer": "ipython2",
   "version": "2.7.6"
  }
 },
 "nbformat": 4,
 "nbformat_minor": 0
}
